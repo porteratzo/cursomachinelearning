{
 "cells": [
  {
   "cell_type": "code",
   "execution_count": 28,
   "metadata": {},
   "outputs": [],
   "source": [
    "import cv2\n",
    "import numpy as np\n",
    "import matplotlib.pyplot as plt\n",
    "import tensorflow as tf\n",
    "import scipy"
   ]
  },
  {
   "cell_type": "code",
   "execution_count": 7,
   "metadata": {},
   "outputs": [
    {
     "data": {
      "image/png": "[encoded data removed]",
      "text/plain": [
       "<Figure size 432x288 with 1 Axes>"
      ]
     },
     "metadata": {
      "needs_background": "light"
     },
     "output_type": "display_data"
    }
   ],
   "source": [
    "DataRojo = np.random.randint(0,65,(25,2)).astype(np.float32)\n",
    "DataAzul = np.random.randint(35,100,(25,2)).astype(np.float32)\n",
    "clasificaciones = np.concatenate([-np.ones(25),np.ones(25)]).astype(np.int32)# concatinate concatena 2 arreglos, puedes\n",
    "#poner un segundo argumento para poner en que dimension quieres concatenar, si no se pone nada los arreglos se aplastan\n",
    "#a vectores antes de concatenar\n",
    "Data=np.concatenate([DataRojo,DataAzul])\n",
    "\n",
    "plt.scatter(DataRojo[:,0],DataRojo[:,1],80,'r','^')\n",
    "plt.scatter(DataAzul[:,0],DataAzul[:,1],80,'b','s')\n",
    "\n",
    "plt.show()"
   ]
  },
  {
   "cell_type": "code",
   "execution_count": 25,
   "metadata": {},
   "outputs": [
    {
     "data": {
      "text/plain": [
       "True"
      ]
     },
     "execution_count": 25,
     "metadata": {},
     "output_type": "execute_result"
    }
   ],
   "source": [
    "newcomer = np.random.randint(0,100,(1,2)).astype(np.float32)\n",
    "svm = cv2.ml.SVM_create()#creamos nuestro objeto SVM\n",
    "svm.setType(cv2.ml.SVM_C_SVC) #Le asignamos que tipo de SVM usaremos SVM_C_SVC es por mucho la mas comun\n",
    "svm.setKernel(cv2.ml.SVM_LINEAR)#Le decimos que kernel queremos usar, SVM_LINEAR no hace tranformada\n",
    "svm.train(Data,cv2.ml.ROW_SAMPLE,clasificaciones)#introducimos los datos,la manera en que estan acomodados,\n",
    "          #y que clasificacion son"
   ]
  },
  {
   "cell_type": "code",
   "execution_count": 26,
   "metadata": {},
   "outputs": [
    {
     "data": {
      "text/plain": [
       "<matplotlib.image.AxesImage at 0x28fa95664e0>"
      ]
     },
     "execution_count": 26,
     "metadata": {},
     "output_type": "execute_result"
    },
    {
     "data": {
      "image/png": "[encoded data removed]",
      "text/plain": [
       "<Figure size 432x288 with 1 Axes>"
      ]
     },
     "metadata": {
      "needs_background": "light"
     },
     "output_type": "display_data"
    }
   ],
   "source": [
    "height=100\n",
    "width=100\n",
    "imagen=np.zeros((height,width,3),dtype=np.uint8)#aqui estamos creando una matriz que usaremos para forma una imagen\n",
    "#de color, por eso tiene 3 en su ultima dimension representa Rojo,Verde,Azul\n",
    "\n",
    "rojo=(255,150,0)\n",
    "azul=(0,150,255)\n",
    "\n",
    "for i in range(imagen.shape[0]):\n",
    "    for j in range(imagen.shape[1]): #con este for dentro de for estamos probando cada pixel dentro de la imagen \n",
    "        #que creamos\n",
    "        sampleMat = np.matrix([[j,i]], dtype=np.float32)#para hacer prediciones hay que convertir nuestro arreglo en una\n",
    "        #matrix\n",
    "        response = svm.predict(sampleMat)[1]#hacemos predicion sobre el punto que queremos y nos dice de que clase es\n",
    "        if response == 1:\n",
    "            imagen[i,j] = azul\n",
    "        elif response == -1:\n",
    "            imagen[i,j] = rojo\n",
    "            \n",
    "for i in range(len(DataRojo)):\n",
    "    cv2.circle(imagen,(DataRojo[i,0],DataRojo[i,1]),2,(250,0,0))#dibuja un circulo sobre la imagen dada, en las coordenadas\n",
    "    #dadas , de tamaño dado y de color dado\n",
    "    \n",
    "for i in range(len(DataAzul)):\n",
    "    cv2.circle(imagen,(DataAzul[i,0],DataAzul[i,1]),2,(0,0,250))\n",
    "plt.imshow(imagen)  "
   ]
  },
  {
   "cell_type": "code",
   "execution_count": null,
   "metadata": {},
   "outputs": [],
   "source": []
  }
 ],
 "metadata": {
  "kernelspec": {
   "display_name": "Python 3",
   "language": "python",
   "name": "python3"
  },
  "language_info": {
   "codemirror_mode": {
    "name": "ipython",
    "version": 3
   },
   "file_extension": ".py",
   "mimetype": "text/x-python",
   "name": "python",
   "nbconvert_exporter": "python",
   "pygments_lexer": "ipython3",
   "version": "3.6.8"
  }
 },
 "nbformat": 4,
 "nbformat_minor": 2
}
