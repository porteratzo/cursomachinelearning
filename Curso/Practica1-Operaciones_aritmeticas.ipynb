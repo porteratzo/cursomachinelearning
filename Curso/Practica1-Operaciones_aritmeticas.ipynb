{
 "cells": [
  {
   "cell_type": "code",
   "execution_count": 1,
   "metadata": {},
   "outputs": [
    {
     "name": "stdout",
     "output_type": "stream",
     "text": [
      "a= 1.03 b= 503 c= 4\n"
     ]
    }
   ],
   "source": [
    "#python es un lenguaje interpretado, a diferencia de lenguajes complilados programas en python se ejecutan al\n",
    "#momento de correr el codigo, no tiene que complilarse.\n",
    "\n",
    "#Jupyter notebook nos permite realizar codigo de una manera mas interactiva y podemos correr partes de codigo celda\n",
    "#por celda, presiona el boton de run que se encuentra arriba o SHIFT+RETURN para ejecutar la celda seleccionada\n",
    "\n",
    "#Para poner comentarios se pone gato seguido por el comentario\n",
    "\n",
    "## Variables de entrada\n",
    "\n",
    "\n",
    "\n",
    "a= 1.03 #en anaconda no es necesario declarar el tipo de dato, se obtiene por contexto\n",
    "b=503\n",
    "c= 2** 2  #elevar a la n se escribe con '**' \n",
    "print(\"a= \"+str(a)+\" b= \"+str(b)+\" c= \"+str(c)) #str convierte un dato en un string y asi se puede concatenar e\n",
    "#imprimir junto con texto"
   ]
  },
  {
   "cell_type": "code",
   "execution_count": 2,
   "metadata": {},
   "outputs": [
    {
     "name": "stdout",
     "output_type": "stream",
     "text": [
      "d= 504.03 e= 5.03 f= 6.059999999999945\n"
     ]
    }
   ],
   "source": [
    "## Suma \n",
    "d= a+b\n",
    "e= a+c\n",
    "f= d+e-b\n",
    "print(\"d= \"+str(d)+\" e= \"+str(e)+\" f= \"+str(f))"
   ]
  },
  {
   "cell_type": "code",
   "execution_count": 3,
   "metadata": {},
   "outputs": [
    {
     "name": "stdout",
     "output_type": "stream",
     "text": [
      "ab= 518.09 bc= 2012 g= -6.241799999999944 h= 5.883495145631015\n"
     ]
    }
   ],
   "source": [
    "## Multiplicación \n",
    "ab= a*b\n",
    "bc= b*c\n",
    "g= f*(-a)\n",
    "h= f/a\n",
    "print(\"ab= \"+str(ab)+\" bc= \"+str(bc)+\" g= \"+str(g)+\" h= \"+str(h))"
   ]
  },
  {
   "cell_type": "code",
   "execution_count": 4,
   "metadata": {},
   "outputs": [],
   "source": [
    "import numpy as np #por si solo python no tiene arreglos como en c++ pero con la libreria numpy se puede obtener\n",
    "#esta funcionalidad con el comando 'import' declaramos que queremos importar una libreria y con 'as' le asignamos\n",
    "#el alias de 'np', numpy es una libreria muy extensa y muy versatil para operaciones numericas solo veremos algunos\n",
    "#de los mas comunes\n",
    "\n",
    "\n",
    "A= [0,1,2,3,4,5]\n",
    "B= np.zeros(6)\n",
    "C= np.ones(6)\n",
    "D= np.matrix([[0,1,2,3,4,5],[6,7,8,9,10,11]])\n",
    "E= [[1,0],[0,1]]"
   ]
  },
  {
   "cell_type": "code",
   "execution_count": 6,
   "metadata": {},
   "outputs": [
    {
     "name": "stdout",
     "output_type": "stream",
     "text": [
      "A= [0, 1, 2, 3, 4, 5] B= [0. 0. 0. 0. 0. 0.] C= [1. 1. 1. 1. 1. 1.] D= [[ 0  1  2  3  4  5]\n",
      " [ 6  7  8  9 10 11]]\n",
      "E= [[1, 0], [0, 1]] F= 2.0 G= 132\n"
     ]
    }
   ],
   "source": [
    "# Suma\n",
    "F= np.sum([0.5, 1.5])#con np.sum se suman todos los terminos del vector o matriz\n",
    "G= np.sum([D,D])\n",
    "print(\"A= \"+str(A)+\" B= \"+str(B)+\" C= \"+str(C)+\" D= \"+str(D))\n",
    "print(\"E= \"+str(E)+\" F= \"+str(F)+\" G= \"+str(G))"
   ]
  },
  {
   "cell_type": "code",
   "execution_count": 7,
   "metadata": {},
   "outputs": [
    {
     "name": "stdout",
     "output_type": "stream",
     "text": [
      "[[0. 1. 2.]\n",
      " [3. 4. 5.]\n",
      " [6. 7. 8.]]\n",
      "[0. 1. 2.]\n"
     ]
    },
    {
     "data": {
      "text/plain": [
       "array([[ 0.,  1.,  4.],\n",
       "       [ 0.,  4., 10.],\n",
       "       [ 0.,  7., 16.]])"
      ]
     },
     "execution_count": 7,
     "metadata": {},
     "output_type": "execute_result"
    }
   ],
   "source": [
    "# Multiplicación\n",
    "x1 = np.arange(9.0).reshape((3, 3))#np.arrange crea un vector empezando desde 0 hasta n np.reshape te permite \n",
    "#cambiar las dimensiones del arreglo\n",
    "print(x1)\n",
    "x2 = np.arange(3.0)\n",
    "print(x2)\n",
    "np.multiply(x1, x2)"
   ]
  },
  {
   "cell_type": "code",
   "execution_count": 9,
   "metadata": {},
   "outputs": [
    {
     "name": "stdout",
     "output_type": "stream",
     "text": [
      "[[2. 2.]\n",
      " [2. 2.]]\n"
     ]
    }
   ],
   "source": [
    "# Producto punto\n",
    "H = np.eye(2)#p.eye crea una matriz identidad de NxN\n",
    "I = np.ones((2, 2)) * 2\n",
    "J= H.dot(I)\n",
    "print(J)"
   ]
  },
  {
   "cell_type": "code",
   "execution_count": null,
   "metadata": {},
   "outputs": [],
   "source": []
  }
 ],
 "metadata": {
  "kernelspec": {
   "display_name": "Python 3",
   "language": "python",
   "name": "python3"
  },
  "language_info": {
   "codemirror_mode": {
    "name": "ipython",
    "version": 3
   },
   "file_extension": ".py",
   "mimetype": "text/x-python",
   "name": "python",
   "nbconvert_exporter": "python",
   "pygments_lexer": "ipython3",
   "version": "3.6.8"
  }
 },
 "nbformat": 4,
 "nbformat_minor": 2
}
