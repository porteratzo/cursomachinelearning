{
 "cells": [
  {
   "cell_type": "code",
   "execution_count": 1,
   "metadata": {},
   "outputs": [],
   "source": [
    "#un aspecto importante en python es que en vez de utilizar corchetes para delimitar codigo como para bucles o definicion\n",
    "#funciones se utiliza indentacion\n",
    "#como se puede ver abajo. \n",
    "## Definir función de suma indexada\n",
    "\n",
    "def w_sum(a,b):#para declarar una funcion se usa el comando def seguido por el nombre de la funcion y entre parentesis\n",
    "    #los nombres de las entradas, finalmente : que significa que lo que sigue que tiene un mayor nivel de indentacion\n",
    "    #pertenece a la funcion. Esto ultimo tambien aplica en los bucles e if\n",
    "    assert(len(a) == len(b)) #assert sirve para probar condiciones, si no se cumple manda un error\n",
    "    output = 0\n",
    "    for i in range(3):#en python el for requiere un iterador como puede ser range(). Este en cada ciclo le asigna a i \n",
    "        #un valor desde 0 hasta n-1\n",
    "        #tambien se puede range(m,n) que empieza en m y intrementa hasta n-1 o\n",
    "        #range(m,n,l) que empieza en m e intrementa la cantidad de l hasta llegar o pasar n-1\n",
    "        output += (a[i] * b[i]) \n",
    "    return output"
   ]
  },
  {
   "cell_type": "code",
   "execution_count": 2,
   "metadata": {},
   "outputs": [],
   "source": [
    "## Definir variables de entrada\n",
    "weights=[0.1, 0.2, 0]\n",
    "toes= [8.5, 9.5, 9.9, 9.0]\n",
    "wlrec= [0.65, 0.8, 0.8, 0.9]\n",
    "nfans= [1.2, 1.3, 0.5, 1.0]\n",
    "input= [toes[0], wlrec[0], nfans[0]]"
   ]
  },
  {
   "cell_type": "code",
   "execution_count": 3,
   "metadata": {},
   "outputs": [],
   "source": [
    "## Operación de suma a través de función\n",
    "P = w_sum(input, weights)"
   ]
  },
  {
   "cell_type": "code",
   "execution_count": 4,
   "metadata": {},
   "outputs": [
    {
     "name": "stdout",
     "output_type": "stream",
     "text": [
      "a= [8.5, 0.65, 1.2]\n",
      "b= [0.1, 0.2, 0]\n",
      "output= 0.9800000000000001\n"
     ]
    }
   ],
   "source": [
    "## Impresión de variables y resultado\n",
    "print(\"a= \"+str(input))\n",
    "print(\"b= \"+str(weights))\n",
    "print(\"output= \"+str(P))"
   ]
  },
  {
   "cell_type": "code",
   "execution_count": null,
   "metadata": {},
   "outputs": [],
   "source": []
  }
 ],
 "metadata": {
  "kernelspec": {
   "display_name": "Python 3",
   "language": "python",
   "name": "python3"
  },
  "language_info": {
   "codemirror_mode": {
    "name": "ipython",
    "version": 3
   },
   "file_extension": ".py",
   "mimetype": "text/x-python",
   "name": "python",
   "nbconvert_exporter": "python",
   "pygments_lexer": "ipython3",
   "version": "3.6.8"
  }
 },
 "nbformat": 4,
 "nbformat_minor": 2
}
